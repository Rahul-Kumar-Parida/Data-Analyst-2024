{
 "cells": [
  {
   "cell_type": "markdown",
   "id": "c2ac1b17-9f69-4169-805b-b3dd134cc4f1",
   "metadata": {},
   "source": [
    "# For Loop In Python"
   ]
  },
  {
   "cell_type": "code",
   "execution_count": 1,
   "id": "eb27a16d-07d0-468a-aa3a-97fc584bca64",
   "metadata": {},
   "outputs": [
    {
     "name": "stdout",
     "output_type": "stream",
     "text": [
      "R\n",
      "a\n",
      "h\n",
      "u\n",
      "l\n"
     ]
    }
   ],
   "source": [
    "a = \"Rahul\"\n",
    "for x in a:\n",
    "    print(x)"
   ]
  },
  {
   "cell_type": "code",
   "execution_count": 4,
   "id": "4a5c7128-6a07-4ff2-9ad9-474f05336c3a",
   "metadata": {},
   "outputs": [
    {
     "name": "stdout",
     "output_type": "stream",
     "text": [
      "R\n",
      "a\n",
      "h\n",
      "u\n",
      "l\n"
     ]
    }
   ],
   "source": [
    "for x in a:\n",
    "    print(x, end=\"\\n\")"
   ]
  },
  {
   "cell_type": "code",
   "execution_count": 5,
   "id": "c0897551-d7e0-467f-92f4-95011d421ea9",
   "metadata": {},
   "outputs": [
    {
     "name": "stdout",
     "output_type": "stream",
     "text": [
      "23\n",
      "45\n",
      "56\n",
      "78\n"
     ]
    }
   ],
   "source": [
    "#List\n",
    "x = [23,45,56,78]\n",
    "for i in x:\n",
    "    print(i)"
   ]
  },
  {
   "cell_type": "code",
   "execution_count": 8,
   "id": "540acba7-d40b-411d-ae79-0033b53eac5d",
   "metadata": {},
   "outputs": [
    {
     "name": "stdout",
     "output_type": "stream",
     "text": [
      "23\n",
      "68\n",
      "124\n",
      "202\n",
      "Total:  202\n"
     ]
    }
   ],
   "source": [
    "sum=0;\n",
    "for i in x:\n",
    "    sum+=i;\n",
    "    print(sum)\n",
    "print(\"Total: \",sum)"
   ]
  },
  {
   "cell_type": "code",
   "execution_count": 11,
   "id": "2726ef12-c27a-4c7b-a427-4e9c8c250dcf",
   "metadata": {},
   "outputs": [
    {
     "name": "stdout",
     "output_type": "stream",
     "text": [
      "3\n",
      "12\n",
      "60\n",
      "360\n",
      "2520\n",
      "20160\n"
     ]
    }
   ],
   "source": [
    "#Tuple\n",
    "sum=1\n",
    "x= (3,4,5,6,7,8)\n",
    "for l in x:\n",
    "    sum*=l\n",
    "    print(sum)"
   ]
  },
  {
   "cell_type": "code",
   "execution_count": 12,
   "id": "6535cc7b-24c3-4417-8c7a-58984b1bb1c2",
   "metadata": {},
   "outputs": [
    {
     "name": "stdout",
     "output_type": "stream",
     "text": [
      "1\n",
      "2\n",
      "3\n",
      "4\n",
      "5\n",
      "6\n",
      "7\n",
      "8\n",
      "9\n",
      "10\n"
     ]
    }
   ],
   "source": [
    "#Range\n",
    "for x in range(1,11):\n",
    "    print(x)"
   ]
  },
  {
   "cell_type": "code",
   "execution_count": 16,
   "id": "5bd00cf3-c49d-4637-b033-94d4a0a238de",
   "metadata": {},
   "outputs": [
    {
     "name": "stdout",
     "output_type": "stream",
     "text": [
      "5 * 1 = 5\n",
      "5 * 2 = 10\n",
      "5 * 3 = 15\n",
      "5 * 4 = 20\n",
      "5 * 5 = 25\n",
      "5 * 6 = 30\n",
      "5 * 7 = 35\n",
      "5 * 8 = 40\n",
      "5 * 9 = 45\n",
      "5 * 10 = 50\n"
     ]
    }
   ],
   "source": [
    "for x in range(1,11):\n",
    "    print(\"5 *\",x, \"=\" , 5*x)  "
   ]
  },
  {
   "cell_type": "code",
   "execution_count": 17,
   "id": "a5a10268-658d-49a1-b2ca-acb050e43fe4",
   "metadata": {},
   "outputs": [
    {
     "name": "stdout",
     "output_type": "stream",
     "text": [
      "Hello python\n",
      "Hello R\n",
      "Hello C++\n",
      "Hello C\n"
     ]
    }
   ],
   "source": [
    "list1= ['python','R','C++','C']\n",
    "for x in range(len(list1)):\n",
    "    print(\"Hello\", list1[x])"
   ]
  },
  {
   "cell_type": "code",
   "execution_count": 22,
   "id": "6bade08e-0c46-4a26-b61e-9651b31053ff",
   "metadata": {},
   "outputs": [
    {
     "name": "stdout",
     "output_type": "stream",
     "text": [
      "Rahul\n",
      "R\n",
      "a\n",
      "h\n",
      "u\n",
      "l\n",
      "Sangram\n",
      "S\n",
      "a\n",
      "n\n",
      "g\n",
      "r\n",
      "a\n",
      "m\n",
      "Dillip\n",
      "D\n",
      "i\n",
      "l\n",
      "l\n",
      "i\n",
      "p\n",
      "Banty\n",
      "B\n",
      "a\n",
      "n\n",
      "t\n",
      "y\n"
     ]
    }
   ],
   "source": [
    "list2= [\"Rahul\", \"Sangram\", \"Dillip\",\"Banty\"]\n",
    "for x in list2:\n",
    "    print(x)\n",
    "    for it in x:\n",
    "        print(it)"
   ]
  },
  {
   "cell_type": "code",
   "execution_count": 23,
   "id": "43f52645-0400-4a79-89ca-684e13146067",
   "metadata": {},
   "outputs": [
    {
     "name": "stdout",
     "output_type": "stream",
     "text": [
      "0\n",
      "1\n",
      "2\n",
      "3\n",
      "4\n",
      "always\n"
     ]
    }
   ],
   "source": [
    "for x in range(5):\n",
    "    print(x)\n",
    "else:\n",
    "    print(\"always\")"
   ]
  },
  {
   "cell_type": "code",
   "execution_count": 27,
   "id": "4fe07282-2532-4db5-a2db-8ccf135ad561",
   "metadata": {},
   "outputs": [
    {
     "name": "stdout",
     "output_type": "stream",
     "text": [
      "1\n",
      "2\n",
      "3\n"
     ]
    }
   ],
   "source": [
    "#break in for loop\n",
    "for i in range(1,8):\n",
    "    if(i==4):\n",
    "        break\n",
    "    print(i)"
   ]
  },
  {
   "cell_type": "code",
   "execution_count": 26,
   "id": "ee489b97-ed8a-45ca-a885-cdaccaf8146a",
   "metadata": {},
   "outputs": [
    {
     "name": "stdout",
     "output_type": "stream",
     "text": [
      "1\n",
      "2\n",
      "3\n",
      "5\n",
      "6\n",
      "7\n"
     ]
    }
   ],
   "source": [
    "#continue in for loop\n",
    "for i in range(1,8):\n",
    "    if(i==4):\n",
    "        continue\n",
    "    print(i)"
   ]
  },
  {
   "cell_type": "code",
   "execution_count": 33,
   "id": "a49725bd-d623-475a-8fe1-d8f02943906b",
   "metadata": {},
   "outputs": [
    {
     "name": "stdout",
     "output_type": "stream",
     "text": [
      "Invalid Player Name\n"
     ]
    }
   ],
   "source": [
    "player_name =\"Rohit5\"\n",
    "goals = {\"Rahul\": 5, \"Sim\": 6,\"Rohit\":10}\n",
    "for players in goals:\n",
    "    if(player_name==players):\n",
    "        print(goals[players])\n",
    "else:\n",
    "    print(\"Invalid Player Name\")"
   ]
  },
  {
   "cell_type": "code",
   "execution_count": 34,
   "id": "ef836ec7-a17b-41b2-bbb5-89c3d64df0c2",
   "metadata": {},
   "outputs": [
    {
     "name": "stdout",
     "output_type": "stream",
     "text": [
      "[1, 8, 27, 64, 125, 216, 343, 512, 729]\n"
     ]
    }
   ],
   "source": [
    "num = [1,2,3,4,5,6,7,8,9]\n",
    "cube =[]\n",
    "for i in num:\n",
    "    cube.append(i**3)\n",
    "print(cube)"
   ]
  },
  {
   "cell_type": "code",
   "execution_count": 37,
   "id": "f09309ca-69bd-451f-af06-c4468b66b145",
   "metadata": {},
   "outputs": [
    {
     "name": "stdout",
     "output_type": "stream",
     "text": [
      "*\n",
      "**\n",
      "***\n",
      "****\n",
      "*****\n"
     ]
    }
   ],
   "source": [
    "#pattern Printing\n",
    "for i in range(0,5):\n",
    "    for j in range(0,i+1):\n",
    "        print(\"*\", end=\"\")\n",
    "    print()"
   ]
  },
  {
   "cell_type": "markdown",
   "id": "0993d831-afbe-4522-b12d-af587b5425d3",
   "metadata": {},
   "source": [
    "# while Loop In Python"
   ]
  },
  {
   "cell_type": "code",
   "execution_count": 1,
   "id": "c0da78b8-bf25-4595-b96f-1711da1944ef",
   "metadata": {},
   "outputs": [
    {
     "name": "stdout",
     "output_type": "stream",
     "text": [
      "1\n",
      "2\n",
      "3\n",
      "4\n",
      "5\n",
      "6\n",
      "7\n",
      "8\n",
      "9\n",
      "10\n"
     ]
    }
   ],
   "source": [
    "i=0;\n",
    "while i<10:\n",
    "    i=i+1\n",
    "    print(i)"
   ]
  },
  {
   "cell_type": "code",
   "execution_count": 3,
   "id": "422ea69b-cc00-4072-9ec4-5dec6705c9d8",
   "metadata": {},
   "outputs": [
    {
     "name": "stdin",
     "output_type": "stream",
     "text": [
      "Enter Name: real\n"
     ]
    },
    {
     "name": "stdout",
     "output_type": "stream",
     "text": [
      "Wrong name\n"
     ]
    },
    {
     "name": "stdin",
     "output_type": "stream",
     "text": [
      "Enter Name: ree\n"
     ]
    },
    {
     "name": "stdout",
     "output_type": "stream",
     "text": [
      "Wrong name\n"
     ]
    },
    {
     "name": "stdin",
     "output_type": "stream",
     "text": [
      "Enter Name: rahul\n"
     ]
    },
    {
     "name": "stdout",
     "output_type": "stream",
     "text": [
      "thank you , You typed Correct Name\n"
     ]
    }
   ],
   "source": [
    "while True:\n",
    "    name= input(\"Enter Name:\")\n",
    "    if name==\"rahul\":\n",
    "        break\n",
    "    else:\n",
    "        print(\"Wrong name\")\n",
    "print(\"thank you , You typed Correct Name\")"
   ]
  },
  {
   "cell_type": "code",
   "execution_count": 5,
   "id": "f2bac983-f7b3-4fa4-9660-631800da0cff",
   "metadata": {},
   "outputs": [
    {
     "name": "stdout",
     "output_type": "stream",
     "text": [
      "1\n",
      "2\n",
      "3\n",
      "4\n"
     ]
    }
   ],
   "source": [
    "#break\n",
    "i=0\n",
    "while i<10:\n",
    "    i=i+1;\n",
    "    if i==5:\n",
    "        break\n",
    "    print(i)"
   ]
  },
  {
   "cell_type": "code",
   "execution_count": 6,
   "id": "bef629a8-27d9-4583-9a61-48cc8ab705d7",
   "metadata": {},
   "outputs": [
    {
     "name": "stdout",
     "output_type": "stream",
     "text": [
      "1\n",
      "2\n",
      "3\n",
      "4\n",
      "6\n",
      "7\n",
      "8\n",
      "9\n",
      "10\n"
     ]
    }
   ],
   "source": [
    "#continue\n",
    "i=0\n",
    "while i<10:\n",
    "    i=i+1;\n",
    "    if i==5:\n",
    "        continue\n",
    "    print(i)"
   ]
  },
  {
   "cell_type": "code",
   "execution_count": 9,
   "id": "9fb20aeb-abb2-4a5d-bfd4-280e9fb43a79",
   "metadata": {},
   "outputs": [
    {
     "name": "stdout",
     "output_type": "stream",
     "text": [
      "8\n",
      "9\n",
      "10\n",
      "10 greater than 10\n"
     ]
    }
   ],
   "source": [
    "i=7\n",
    "while i<10:\n",
    "    i=i+1;\n",
    "    if i==5:\n",
    "        break\n",
    "    print(i)\n",
    "else:\n",
    "    print(i, \"greater than 10\")"
   ]
  },
  {
   "cell_type": "code",
   "execution_count": 11,
   "id": "fdd6fe84-8d6b-41fd-bb5b-5995a75eff9c",
   "metadata": {},
   "outputs": [
    {
     "name": "stdout",
     "output_type": "stream",
     "text": [
      "5\n",
      "4\n",
      "3\n",
      "2\n",
      "1\n",
      "Vanish\n"
     ]
    }
   ],
   "source": [
    "a=[1,2,3,4,5]\n",
    "while a:\n",
    "    print(a.pop())\n",
    "else:\n",
    "    print(\"Vanish\")"
   ]
  },
  {
   "cell_type": "code",
   "execution_count": 20,
   "id": "3779b392-1587-4d4f-a042-edb993ea1419",
   "metadata": {},
   "outputs": [
    {
     "name": "stdout",
     "output_type": "stream",
     "text": [
      "66\n"
     ]
    },
    {
     "name": "stdin",
     "output_type": "stream",
     "text": [
      "Guess Number between 1 to 100 67\n"
     ]
    },
    {
     "name": "stdout",
     "output_type": "stream",
     "text": [
      "Your Guess is high:\n"
     ]
    },
    {
     "name": "stdin",
     "output_type": "stream",
     "text": [
      "Guess Number between 1 to 100 78\n"
     ]
    },
    {
     "name": "stdout",
     "output_type": "stream",
     "text": [
      "Your Guess is high:\n"
     ]
    },
    {
     "name": "stdin",
     "output_type": "stream",
     "text": [
      "Guess Number between 1 to 100 66\n"
     ]
    },
    {
     "name": "stdout",
     "output_type": "stream",
     "text": [
      "You Guess It Correctly\n"
     ]
    }
   ],
   "source": [
    "import random\n",
    "n= random.randint(1,100)\n",
    "print(n)\n",
    "guess = int(input(\"Guess Number between 1 to 100\"))\n",
    "while n!=\"guess\":\n",
    "    if guess<n:\n",
    "        print(\"Your guess is low\")\n",
    "        guess = int(input(\"Guess Number between 1 to 100\"))\n",
    "    elif guess>n:\n",
    "        print(\"Your Guess is high:\")\n",
    "        guess = int(input(\"Guess Number between 1 to 100\"))\n",
    "    else:\n",
    "        print(\"You Guess It Correctly\")\n",
    "        break\n",
    "        "
   ]
  },
  {
   "cell_type": "markdown",
   "id": "9400279e-bcc5-46cf-a221-af0f6a8dbdd3",
   "metadata": {},
   "source": [
    "# Nested Loop in python"
   ]
  },
  {
   "cell_type": "code",
   "execution_count": 23,
   "id": "b09a4ee1-111d-4213-aded-91f95958d057",
   "metadata": {},
   "outputs": [
    {
     "name": "stdout",
     "output_type": "stream",
     "text": [
      "mango\n",
      "m*a*n*g*o*banana\n",
      "b*a*n*a*n*a*apple\n",
      "a*p*p*l*e*litchi\n",
      "l*i*t*c*h*i*"
     ]
    }
   ],
   "source": [
    "list = [\"mango\",\"banana\",\"apple\",\"litchi\"]\n",
    "for i in list:\n",
    "    print(i)\n",
    "    for x in i:\n",
    "        print(x, end=\"*\")"
   ]
  },
  {
   "cell_type": "code",
   "execution_count": 24,
   "id": "88768340-9177-48e5-bf96-e5728be1e95f",
   "metadata": {},
   "outputs": [
    {
     "name": "stdout",
     "output_type": "stream",
     "text": [
      "red apple\n",
      "red banana\n",
      "red litchi\n",
      "green apple\n",
      "green banana\n",
      "green litchi\n",
      "blue apple\n",
      "blue banana\n",
      "blue litchi\n"
     ]
    }
   ],
   "source": [
    "color=[\"red\",\"green\",\"blue\"]\n",
    "items = [\"apple\",\"banana\",\"litchi\"]\n",
    "for x in color:\n",
    "    for y in items:\n",
    "        print(x, y)"
   ]
  },
  {
   "cell_type": "code",
   "execution_count": 28,
   "id": "0133cd35-4ae4-4d78-99ff-25da9a72a8a0",
   "metadata": {},
   "outputs": [
    {
     "name": "stdout",
     "output_type": "stream",
     "text": [
      "apple apple apple apple apple apple \n",
      "orange orange orange orange orange orange \n",
      "kiwi kiwi kiwi kiwi kiwi kiwi \n"
     ]
    }
   ],
   "source": [
    "fruits =[\"apple\",\"orange\",\"kiwi\"]\n",
    "for fruit in fruits:\n",
    "    count=0\n",
    "    while count<6:\n",
    "        print(fruit, end=\" \" )\n",
    "        count=count+1\n",
    "    print()"
   ]
  },
  {
   "cell_type": "code",
   "execution_count": null,
   "id": "5dce96eb-682c-4ea3-8fdd-5b03f2350c40",
   "metadata": {},
   "outputs": [],
   "source": []
  }
 ],
 "metadata": {
  "kernelspec": {
   "display_name": "Python 3 (ipykernel)",
   "language": "python",
   "name": "python3"
  },
  "language_info": {
   "codemirror_mode": {
    "name": "ipython",
    "version": 3
   },
   "file_extension": ".py",
   "mimetype": "text/x-python",
   "name": "python",
   "nbconvert_exporter": "python",
   "pygments_lexer": "ipython3",
   "version": "3.11.4"
  }
 },
 "nbformat": 4,
 "nbformat_minor": 5
}
