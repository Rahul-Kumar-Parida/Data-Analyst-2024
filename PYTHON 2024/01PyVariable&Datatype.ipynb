{
 "cells": [
  {
   "cell_type": "markdown",
   "id": "8cb56c1f-ba8a-4b4d-aa4d-98d9365213fe",
   "metadata": {},
   "source": [
    "# variable & Datatype Check\n",
    "x=12"
   ]
  },
  {
   "cell_type": "code",
   "execution_count": 2,
   "id": "2c026dfa-72ab-4fa8-a1a7-dca005ff9454",
   "metadata": {},
   "outputs": [
    {
     "name": "stdout",
     "output_type": "stream",
     "text": [
      "12\n"
     ]
    }
   ],
   "source": [
    "print(x)"
   ]
  },
  {
   "cell_type": "code",
   "execution_count": 3,
   "id": "463cdd82-f654-4729-a1a8-a740926da4bf",
   "metadata": {},
   "outputs": [
    {
     "data": {
      "text/plain": [
       "int"
      ]
     },
     "execution_count": 3,
     "metadata": {},
     "output_type": "execute_result"
    }
   ],
   "source": [
    "type(x)"
   ]
  },
  {
   "cell_type": "code",
   "execution_count": 4,
   "id": "a0492889-f92a-415c-8f0d-36043dd72851",
   "metadata": {},
   "outputs": [],
   "source": [
    "x=3.14"
   ]
  },
  {
   "cell_type": "code",
   "execution_count": 5,
   "id": "0310e86f-096c-438b-9a8b-b22733d28e70",
   "metadata": {},
   "outputs": [
    {
     "data": {
      "text/plain": [
       "float"
      ]
     },
     "execution_count": 5,
     "metadata": {},
     "output_type": "execute_result"
    }
   ],
   "source": [
    "type(x)"
   ]
  },
  {
   "cell_type": "code",
   "execution_count": 6,
   "id": "96ce00cb-506e-4c3d-8065-732c93619724",
   "metadata": {},
   "outputs": [
    {
     "name": "stdout",
     "output_type": "stream",
     "text": [
      "rahul\n"
     ]
    }
   ],
   "source": [
    "x=\"rahul\"\n",
    "print(x)"
   ]
  },
  {
   "cell_type": "code",
   "execution_count": 7,
   "id": "7df6e930-b33a-4f83-b9d9-ee16160e05fc",
   "metadata": {},
   "outputs": [
    {
     "data": {
      "text/plain": [
       "str"
      ]
     },
     "execution_count": 7,
     "metadata": {},
     "output_type": "execute_result"
    }
   ],
   "source": [
    "type(x)"
   ]
  },
  {
   "cell_type": "code",
   "execution_count": 8,
   "id": "e1e41e27-9daa-4e70-8ffb-29789e5dd3de",
   "metadata": {},
   "outputs": [
    {
     "data": {
      "text/plain": [
       "str"
      ]
     },
     "execution_count": 8,
     "metadata": {},
     "output_type": "execute_result"
    }
   ],
   "source": [
    "x ='rahul'\n",
    "type(x)"
   ]
  },
  {
   "cell_type": "markdown",
   "id": "b1b9820c-e56f-4fea-b2f2-b81f2fd8b81c",
   "metadata": {},
   "source": [
    "# List in python (Datatype)"
   ]
  },
  {
   "cell_type": "code",
   "execution_count": 10,
   "id": "9e1e6271-8b3b-4667-9a49-c8a62674f2cb",
   "metadata": {},
   "outputs": [
    {
     "name": "stdout",
     "output_type": "stream",
     "text": [
      "[23, 33, 45, 56]\n"
     ]
    }
   ],
   "source": [
    "x=[23,33,45,56]\n",
    "print(x)"
   ]
  },
  {
   "cell_type": "code",
   "execution_count": 11,
   "id": "3a0d5344-1a44-4f0f-9f5a-32a04039f4f8",
   "metadata": {},
   "outputs": [
    {
     "name": "stdout",
     "output_type": "stream",
     "text": [
      "56\n"
     ]
    }
   ],
   "source": [
    "print(x[3])"
   ]
  },
  {
   "cell_type": "code",
   "execution_count": 12,
   "id": "08ea016e-2c23-4a10-89e9-2435c22b24d7",
   "metadata": {},
   "outputs": [
    {
     "name": "stdout",
     "output_type": "stream",
     "text": [
      "45\n"
     ]
    }
   ],
   "source": [
    "print(x[2])"
   ]
  },
  {
   "cell_type": "code",
   "execution_count": 14,
   "id": "1831c4b1-31df-4f95-8d23-3e7557715786",
   "metadata": {},
   "outputs": [
    {
     "name": "stdout",
     "output_type": "stream",
     "text": [
      "33\n"
     ]
    }
   ],
   "source": [
    "print(x[1])"
   ]
  },
  {
   "cell_type": "code",
   "execution_count": 15,
   "id": "bc9182c0-875f-458c-a206-a79a4e422ade",
   "metadata": {},
   "outputs": [],
   "source": [
    "x[1]=20"
   ]
  },
  {
   "cell_type": "code",
   "execution_count": 16,
   "id": "78df6afc-d695-49e6-9b4a-20428d54599c",
   "metadata": {},
   "outputs": [
    {
     "name": "stdout",
     "output_type": "stream",
     "text": [
      "20\n"
     ]
    }
   ],
   "source": [
    "print(x[1])"
   ]
  },
  {
   "cell_type": "code",
   "execution_count": 17,
   "id": "689b37d4-2b90-43a6-be5e-a32c4337602b",
   "metadata": {},
   "outputs": [
    {
     "name": "stdout",
     "output_type": "stream",
     "text": [
      "[23, 20, 45, 56]\n"
     ]
    }
   ],
   "source": [
    "print(x)"
   ]
  },
  {
   "cell_type": "code",
   "execution_count": 1,
   "id": "89b44c97-079d-4be0-a538-5166027ac2f3",
   "metadata": {},
   "outputs": [],
   "source": [
    "#lists are mutable\n",
    "\n",
    "\n"
   ]
  },
  {
   "cell_type": "markdown",
   "id": "344a5066-7e06-4d50-9cdd-b73ac83a2509",
   "metadata": {},
   "source": [
    "# tuple in python\n",
    "x=(2,3,4,5)\n",
    "print(x)"
   ]
  },
  {
   "cell_type": "code",
   "execution_count": 3,
   "id": "364df558-f759-4603-bc1d-e2ad9e41ef67",
   "metadata": {},
   "outputs": [
    {
     "name": "stdout",
     "output_type": "stream",
     "text": [
      "4\n"
     ]
    }
   ],
   "source": [
    "print(x[2])"
   ]
  },
  {
   "cell_type": "code",
   "execution_count": 5,
   "id": "4bfd2802-d793-4911-92d3-ce04b204bc7e",
   "metadata": {},
   "outputs": [],
   "source": [
    "# x[2]=3\n",
    "# Tuples are imutable"
   ]
  },
  {
   "cell_type": "code",
   "execution_count": 7,
   "id": "97a868a5-6997-48d8-b303-4f442ab6aae1",
   "metadata": {},
   "outputs": [],
   "source": [
    "x=open('01PyVariable&Datatype.ipynb','r')"
   ]
  },
  {
   "cell_type": "code",
   "execution_count": 8,
   "id": "bd2d6728-a303-4de6-afec-91690a271e68",
   "metadata": {},
   "outputs": [],
   "source": [
    "(x,y,z)=2,3,4"
   ]
  },
  {
   "cell_type": "code",
   "execution_count": 9,
   "id": "9ca470f8-fd51-4933-b969-7df3ec24b786",
   "metadata": {},
   "outputs": [
    {
     "name": "stdout",
     "output_type": "stream",
     "text": [
      "2\n",
      "3\n",
      "4\n"
     ]
    }
   ],
   "source": [
    "print(x)\n",
    "print(y)\n",
    "print(z)"
   ]
  },
  {
   "cell_type": "code",
   "execution_count": 10,
   "id": "dce745a1-6e8e-4ace-a6d8-9028e287bbdf",
   "metadata": {},
   "outputs": [],
   "source": [
    "x=y=z=1"
   ]
  },
  {
   "cell_type": "code",
   "execution_count": 11,
   "id": "9748087e-e413-4314-8b52-cad056d2a3d9",
   "metadata": {},
   "outputs": [
    {
     "name": "stdout",
     "output_type": "stream",
     "text": [
      "1 1 1\n"
     ]
    }
   ],
   "source": [
    "print(x,y,z)"
   ]
  },
  {
   "cell_type": "markdown",
   "id": "706747b3-32e0-4af2-8456-7b04d4471ae3",
   "metadata": {},
   "source": [
    "# Rules For Naming Variable \n"
   ]
  },
  {
   "cell_type": "code",
   "execution_count": 12,
   "id": "8aeb0c50-6843-4249-9a12-95b0b1b7e6b8",
   "metadata": {},
   "outputs": [],
   "source": [
    "abc=12"
   ]
  },
  {
   "cell_type": "code",
   "execution_count": 13,
   "id": "6d2e3c2f-2058-4dc2-ae13-846fe0fdb2ae",
   "metadata": {},
   "outputs": [],
   "source": [
    "_add=34"
   ]
  },
  {
   "cell_type": "code",
   "execution_count": 15,
   "id": "8ff2b373-af79-4af3-a088-a16413c8e9c4",
   "metadata": {},
   "outputs": [],
   "source": [
    "# 3fdd=44  error"
   ]
  },
  {
   "cell_type": "code",
   "execution_count": 16,
   "id": "ffa1ec84-4e9a-45c2-924a-e1a8221a738f",
   "metadata": {},
   "outputs": [],
   "source": [
    "a100=100\n",
    "A100=100"
   ]
  },
  {
   "cell_type": "code",
   "execution_count": 17,
   "id": "68e39ca9-4a59-4518-8405-8eb4376161ab",
   "metadata": {},
   "outputs": [
    {
     "name": "stdout",
     "output_type": "stream",
     "text": [
      "100 100\n"
     ]
    }
   ],
   "source": [
    "print(a100,A100)"
   ]
  },
  {
   "cell_type": "code",
   "execution_count": 18,
   "id": "ee43ca08-3ee4-4006-856a-e18bc1c92bb1",
   "metadata": {},
   "outputs": [],
   "source": [
    "# Python is case sensitive"
   ]
  },
  {
   "cell_type": "markdown",
   "id": "b1d17447-d61a-437e-bfcf-725e51c6b337",
   "metadata": {},
   "source": [
    "# Arithmatic Operations"
   ]
  },
  {
   "cell_type": "code",
   "execution_count": 19,
   "id": "0d892435-eeb3-492a-ad4e-64754dea08ec",
   "metadata": {},
   "outputs": [],
   "source": [
    "x=12\n",
    "y=3\n"
   ]
  },
  {
   "cell_type": "code",
   "execution_count": 20,
   "id": "bbc0926e-88bd-44f8-8d9d-e109f6eea0fa",
   "metadata": {},
   "outputs": [
    {
     "name": "stdout",
     "output_type": "stream",
     "text": [
      "15\n"
     ]
    }
   ],
   "source": [
    "print(x+y)"
   ]
  },
  {
   "cell_type": "code",
   "execution_count": 21,
   "id": "7a2e1e9d-eafc-400d-979a-3dbd15c2b9f8",
   "metadata": {},
   "outputs": [
    {
     "name": "stdout",
     "output_type": "stream",
     "text": [
      "9\n"
     ]
    }
   ],
   "source": [
    "print(x-y)"
   ]
  },
  {
   "cell_type": "code",
   "execution_count": 22,
   "id": "287e1496-3044-4a90-a207-b6e410d554b4",
   "metadata": {},
   "outputs": [
    {
     "name": "stdout",
     "output_type": "stream",
     "text": [
      "36\n"
     ]
    }
   ],
   "source": [
    "print(x*y)"
   ]
  },
  {
   "cell_type": "code",
   "execution_count": 23,
   "id": "641c748f-0ec8-4f19-b766-88c4034e170b",
   "metadata": {},
   "outputs": [
    {
     "name": "stdout",
     "output_type": "stream",
     "text": [
      "4.0\n"
     ]
    }
   ],
   "source": [
    "print(x/y)"
   ]
  },
  {
   "cell_type": "code",
   "execution_count": 24,
   "id": "d2360fc6-4a6a-4d0a-af8c-4430d3f3b4e1",
   "metadata": {},
   "outputs": [
    {
     "name": "stdout",
     "output_type": "stream",
     "text": [
      "4\n"
     ]
    }
   ],
   "source": [
    "print(x//y)"
   ]
  },
  {
   "cell_type": "code",
   "execution_count": 25,
   "id": "246462d1-5eb1-44ae-bd11-5f13ede2dd57",
   "metadata": {},
   "outputs": [
    {
     "name": "stdout",
     "output_type": "stream",
     "text": [
      "0\n"
     ]
    }
   ],
   "source": [
    "print(x%y)"
   ]
  },
  {
   "cell_type": "markdown",
   "id": "2938031f-634b-410b-9048-f061c4f53f86",
   "metadata": {},
   "source": [
    "# String Operations"
   ]
  },
  {
   "cell_type": "code",
   "execution_count": 27,
   "id": "b3b98779-c551-46e3-a411-ac27e58ad7db",
   "metadata": {},
   "outputs": [
    {
     "name": "stdout",
     "output_type": "stream",
     "text": [
      "simplilearn\n"
     ]
    }
   ],
   "source": [
    "var = \"simplilearn\"\n",
    "print(var)"
   ]
  },
  {
   "cell_type": "code",
   "execution_count": 28,
   "id": "5d1c51d3-3b4e-4d1b-93ab-3385c15989dd",
   "metadata": {},
   "outputs": [
    {
     "name": "stdout",
     "output_type": "stream",
     "text": [
      "s\n"
     ]
    }
   ],
   "source": [
    "print(var[0])"
   ]
  },
  {
   "cell_type": "code",
   "execution_count": 29,
   "id": "3ffaf422-f7ce-49e0-bef9-ac3c22424a39",
   "metadata": {},
   "outputs": [
    {
     "name": "stdout",
     "output_type": "stream",
     "text": [
      "simpl\n"
     ]
    }
   ],
   "source": [
    "print(var[0:5])"
   ]
  },
  {
   "cell_type": "code",
   "execution_count": 30,
   "id": "c91bf166-b2f4-45c1-918a-fcdfc380eb48",
   "metadata": {},
   "outputs": [
    {
     "name": "stdout",
     "output_type": "stream",
     "text": [
      "simplilearn\n"
     ]
    }
   ],
   "source": [
    "print(var[0:])"
   ]
  },
  {
   "cell_type": "code",
   "execution_count": 31,
   "id": "ab03089b-b8eb-4c06-a543-4905e579f0b4",
   "metadata": {},
   "outputs": [
    {
     "name": "stdout",
     "output_type": "stream",
     "text": [
      "simplilearn\n"
     ]
    }
   ],
   "source": [
    "print(var[0:20])"
   ]
  },
  {
   "cell_type": "code",
   "execution_count": 34,
   "id": "702610c1-ceb3-40ed-a420-eb06b690a33f",
   "metadata": {},
   "outputs": [
    {
     "name": "stdout",
     "output_type": "stream",
     "text": [
      "It's a Great Sunday\n"
     ]
    }
   ],
   "source": [
    "a= \"It's Sunday\"\n",
    "b=\"Have a Great Day\"\n",
    "c=a[0:4] + \" \" + b[5:12] +\" \"+ a[5:11]\n",
    "print(c)"
   ]
  },
  {
   "cell_type": "code",
   "execution_count": 36,
   "id": "82dd18f5-9e55-4fc6-a3ed-7b8409f533a5",
   "metadata": {},
   "outputs": [
    {
     "name": "stdout",
     "output_type": "stream",
     "text": [
      "100 200\n",
      "200 100\n"
     ]
    }
   ],
   "source": [
    "a=100\n",
    "b=200\n",
    "print(a,b)\n",
    "c=a\n",
    "a=b;\n",
    "b=c;\n",
    "print(a,b)"
   ]
  },
  {
   "cell_type": "code",
   "execution_count": null,
   "id": "4e3da2b0-11c6-4816-b8c5-858911e3eaed",
   "metadata": {},
   "outputs": [],
   "source": []
  }
 ],
 "metadata": {
  "kernelspec": {
   "display_name": "Python 3 (ipykernel)",
   "language": "python",
   "name": "python3"
  },
  "language_info": {
   "codemirror_mode": {
    "name": "ipython",
    "version": 3
   },
   "file_extension": ".py",
   "mimetype": "text/x-python",
   "name": "python",
   "nbconvert_exporter": "python",
   "pygments_lexer": "ipython3",
   "version": "3.11.4"
  }
 },
 "nbformat": 4,
 "nbformat_minor": 5
}
