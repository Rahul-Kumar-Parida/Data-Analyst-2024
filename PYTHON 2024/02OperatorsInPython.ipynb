{
 "cells": [
  {
   "cell_type": "markdown",
   "id": "5ae1e9b8-8aa1-438d-8a47-d133cfcfcd4a",
   "metadata": {},
   "source": [
    "# Operators in Python"
   ]
  },
  {
   "cell_type": "markdown",
   "id": "84cec061-bd0c-4898-a085-241a6f5dd5be",
   "metadata": {},
   "source": [
    "# 1)Assignment Operator\n"
   ]
  },
  {
   "cell_type": "code",
   "execution_count": 2,
   "id": "e5d9adaf-4790-4ad4-a30e-617fcbeb136a",
   "metadata": {},
   "outputs": [
    {
     "name": "stdout",
     "output_type": "stream",
     "text": [
      "18\n"
     ]
    }
   ],
   "source": [
    "a=23\n",
    "b=5\n",
    "print(a+b)\n",
    "print(a-b)"
   ]
  },
  {
   "cell_type": "code",
   "execution_count": 3,
   "id": "6540e09b-e5ac-45f8-aeb8-286f88232bd7",
   "metadata": {},
   "outputs": [
    {
     "name": "stdout",
     "output_type": "stream",
     "text": [
      "115\n"
     ]
    }
   ],
   "source": [
    "print(a*b)"
   ]
  },
  {
   "cell_type": "code",
   "execution_count": 4,
   "id": "f8bd23f7-e59f-43da-bb73-9715a0bf26f4",
   "metadata": {},
   "outputs": [
    {
     "name": "stdout",
     "output_type": "stream",
     "text": [
      "4.6\n"
     ]
    }
   ],
   "source": [
    "print(a/b)"
   ]
  },
  {
   "cell_type": "code",
   "execution_count": 5,
   "id": "b8719be9-827a-4ba0-b923-5775f63a84fc",
   "metadata": {},
   "outputs": [
    {
     "name": "stdout",
     "output_type": "stream",
     "text": [
      "4\n"
     ]
    }
   ],
   "source": [
    "print(a//b)  #floor division"
   ]
  },
  {
   "cell_type": "code",
   "execution_count": 6,
   "id": "cce37998-f860-4dc1-b399-8ee307de4335",
   "metadata": {},
   "outputs": [
    {
     "name": "stdout",
     "output_type": "stream",
     "text": [
      "6436343\n"
     ]
    }
   ],
   "source": [
    "print(a**b) #exponent"
   ]
  },
  {
   "cell_type": "code",
   "execution_count": 7,
   "id": "95cbca10-b643-4803-8ca5-e3679d99118c",
   "metadata": {},
   "outputs": [
    {
     "name": "stdout",
     "output_type": "stream",
     "text": [
      "3\n"
     ]
    }
   ],
   "source": [
    "print(a%b) #modulus"
   ]
  },
  {
   "cell_type": "markdown",
   "id": "a59d2e30-a3b1-4ae0-b4ef-06397575a751",
   "metadata": {},
   "source": [
    "# 2)Assignment Operator"
   ]
  },
  {
   "cell_type": "code",
   "execution_count": 9,
   "id": "30619f07-4b38-4978-8f17-22dfae9d9296",
   "metadata": {},
   "outputs": [
    {
     "name": "stdout",
     "output_type": "stream",
     "text": [
      "4\n"
     ]
    }
   ],
   "source": [
    "a=4\n",
    "print(a)"
   ]
  },
  {
   "cell_type": "code",
   "execution_count": 10,
   "id": "46380aae-e739-4b12-9860-014f2579a235",
   "metadata": {},
   "outputs": [
    {
     "name": "stdout",
     "output_type": "stream",
     "text": [
      "8\n"
     ]
    }
   ],
   "source": [
    "a+=4\n",
    "print(a)"
   ]
  },
  {
   "cell_type": "code",
   "execution_count": 11,
   "id": "85b999cc-9c41-4bed-b723-3b9b70038b21",
   "metadata": {},
   "outputs": [
    {
     "name": "stdout",
     "output_type": "stream",
     "text": [
      "13\n"
     ]
    }
   ],
   "source": [
    "a+=5\n",
    "print(a)"
   ]
  },
  {
   "cell_type": "markdown",
   "id": "495262eb-3bba-48a7-a4a9-67dde6fc62b2",
   "metadata": {},
   "source": [
    "# 3) Comparision Operator"
   ]
  },
  {
   "cell_type": "code",
   "execution_count": 1,
   "id": "d30ef0d6-5a6b-4b20-a8b0-3777298ba46c",
   "metadata": {},
   "outputs": [
    {
     "name": "stdout",
     "output_type": "stream",
     "text": [
      "False\n"
     ]
    }
   ],
   "source": [
    "x=34\n",
    "y=23\n",
    "print(x==y)"
   ]
  },
  {
   "cell_type": "code",
   "execution_count": 2,
   "id": "259ae9b3-76a7-4013-9238-ce0f28627e99",
   "metadata": {},
   "outputs": [
    {
     "name": "stdout",
     "output_type": "stream",
     "text": [
      "True\n"
     ]
    }
   ],
   "source": [
    "print(x>y)"
   ]
  },
  {
   "cell_type": "code",
   "execution_count": 3,
   "id": "680d3e1e-2287-4869-bbd2-ab685049b12e",
   "metadata": {},
   "outputs": [
    {
     "name": "stdout",
     "output_type": "stream",
     "text": [
      "False\n"
     ]
    }
   ],
   "source": [
    "print(x<y)"
   ]
  },
  {
   "cell_type": "code",
   "execution_count": 4,
   "id": "f0790841-35df-49a7-b311-23d3ea4faa7e",
   "metadata": {},
   "outputs": [
    {
     "name": "stdout",
     "output_type": "stream",
     "text": [
      "True\n"
     ]
    }
   ],
   "source": [
    "print(x!=y)"
   ]
  },
  {
   "cell_type": "code",
   "execution_count": 5,
   "id": "a1661e1f-6b6d-47b6-a27b-ceb3fe8a06e2",
   "metadata": {},
   "outputs": [
    {
     "name": "stdout",
     "output_type": "stream",
     "text": [
      "True\n"
     ]
    }
   ],
   "source": [
    "print(x>=y)"
   ]
  },
  {
   "cell_type": "code",
   "execution_count": 6,
   "id": "d763a7ad-904a-4c6e-b12b-d518c19d599e",
   "metadata": {},
   "outputs": [
    {
     "name": "stdout",
     "output_type": "stream",
     "text": [
      "False\n"
     ]
    }
   ],
   "source": [
    "print(x<=y)"
   ]
  },
  {
   "cell_type": "markdown",
   "id": "0e0ca5c8-ea42-45d3-99af-5aff424b1825",
   "metadata": {},
   "source": [
    "# 4)Logical Operator"
   ]
  },
  {
   "cell_type": "code",
   "execution_count": 7,
   "id": "2aa1e6a3-b92b-4cc7-85ea-9be54101b74b",
   "metadata": {},
   "outputs": [
    {
     "name": "stdout",
     "output_type": "stream",
     "text": [
      "False\n"
     ]
    }
   ],
   "source": [
    "x=12\n",
    "y=25\n",
    "print(x>10 and y<20)"
   ]
  },
  {
   "cell_type": "code",
   "execution_count": 8,
   "id": "8d001670-7911-482a-a4f9-45ba29dada9d",
   "metadata": {},
   "outputs": [
    {
     "name": "stdout",
     "output_type": "stream",
     "text": [
      "True\n"
     ]
    }
   ],
   "source": [
    "print(x>10 and y<30)"
   ]
  },
  {
   "cell_type": "code",
   "execution_count": 9,
   "id": "1ebbc37f-53ec-428a-9c69-104054362e4f",
   "metadata": {},
   "outputs": [
    {
     "name": "stdout",
     "output_type": "stream",
     "text": [
      "True\n"
     ]
    }
   ],
   "source": [
    "print(x>1 or y<10)"
   ]
  },
  {
   "cell_type": "code",
   "execution_count": 11,
   "id": "7377caa3-858c-46e0-b713-ce317cf026d3",
   "metadata": {},
   "outputs": [
    {
     "name": "stdout",
     "output_type": "stream",
     "text": [
      "False\n"
     ]
    }
   ],
   "source": [
    "print(not x>10)"
   ]
  },
  {
   "cell_type": "code",
   "execution_count": 12,
   "id": "5c5040db-e3a1-455b-8434-cd62805f6be5",
   "metadata": {},
   "outputs": [
    {
     "name": "stdout",
     "output_type": "stream",
     "text": [
      "True\n"
     ]
    }
   ],
   "source": [
    "print(not y<20)"
   ]
  },
  {
   "cell_type": "markdown",
   "id": "28fec885-9e94-4644-9bad-431c3978d1c1",
   "metadata": {},
   "source": [
    "# 5)Identity Operator"
   ]
  },
  {
   "cell_type": "code",
   "execution_count": 13,
   "id": "11ee9616-49ad-4e40-bd02-376ce2892a26",
   "metadata": {},
   "outputs": [
    {
     "name": "stdout",
     "output_type": "stream",
     "text": [
      "True\n"
     ]
    }
   ],
   "source": [
    "x=10\n",
    "y=10\n",
    "print(x is y)"
   ]
  },
  {
   "cell_type": "code",
   "execution_count": 14,
   "id": "7643559f-5084-4b46-bb7e-74d1c20c85cd",
   "metadata": {},
   "outputs": [
    {
     "name": "stdout",
     "output_type": "stream",
     "text": [
      "True\n"
     ]
    }
   ],
   "source": [
    "print(x==y)"
   ]
  },
  {
   "cell_type": "code",
   "execution_count": 15,
   "id": "052598f7-f17f-4ec5-8957-14d62c91d85a",
   "metadata": {},
   "outputs": [
    {
     "name": "stdout",
     "output_type": "stream",
     "text": [
      "False\n"
     ]
    }
   ],
   "source": [
    "print(x is not y)"
   ]
  },
  {
   "cell_type": "code",
   "execution_count": 16,
   "id": "46d6fa53-6d09-4c66-8562-38ae6d5bf467",
   "metadata": {},
   "outputs": [
    {
     "name": "stdout",
     "output_type": "stream",
     "text": [
      "False\n"
     ]
    }
   ],
   "source": [
    "print(x != y)"
   ]
  },
  {
   "cell_type": "markdown",
   "id": "65785fc8-b8a8-44f6-ab40-4892e2574dc3",
   "metadata": {},
   "source": [
    "# 6) Membership Operator"
   ]
  },
  {
   "cell_type": "code",
   "execution_count": 17,
   "id": "3353e5a4-9c70-4117-be70-b102941c64b7",
   "metadata": {},
   "outputs": [
    {
     "name": "stdout",
     "output_type": "stream",
     "text": [
      "True\n"
     ]
    }
   ],
   "source": [
    "x = \"hello\"\n",
    "print('h' in x)"
   ]
  },
  {
   "cell_type": "code",
   "execution_count": 18,
   "id": "f874dd9c-126c-4e43-ad96-58caf81a6653",
   "metadata": {},
   "outputs": [
    {
     "name": "stdout",
     "output_type": "stream",
     "text": [
      "False\n"
     ]
    }
   ],
   "source": [
    "print('i' in x)"
   ]
  },
  {
   "cell_type": "code",
   "execution_count": 19,
   "id": "d6c10b4d-c87e-4b55-acae-9b3d5115f6fc",
   "metadata": {},
   "outputs": [
    {
     "name": "stdout",
     "output_type": "stream",
     "text": [
      "True\n"
     ]
    }
   ],
   "source": [
    "print('i' not in x)"
   ]
  },
  {
   "cell_type": "markdown",
   "id": "0f3c47e0-ce33-4b2f-8216-6f393f6fee8f",
   "metadata": {},
   "source": [
    "# 7)Bitwise Operator"
   ]
  },
  {
   "cell_type": "code",
   "execution_count": 20,
   "id": "a00b2b7b-2fa1-40a8-8015-dd5e4455fc9a",
   "metadata": {},
   "outputs": [
    {
     "name": "stdout",
     "output_type": "stream",
     "text": [
      "0b1010\n",
      "0b1000\n"
     ]
    }
   ],
   "source": [
    "x=10\n",
    "y=8\n",
    "print(bin(x))\n",
    "print(bin(y))"
   ]
  },
  {
   "cell_type": "code",
   "execution_count": 21,
   "id": "144d7be2-f184-485e-8120-307e77350c61",
   "metadata": {},
   "outputs": [
    {
     "name": "stdout",
     "output_type": "stream",
     "text": [
      "8\n"
     ]
    }
   ],
   "source": [
    "print(x&y)"
   ]
  },
  {
   "cell_type": "code",
   "execution_count": 23,
   "id": "fac89767-56e9-4342-acae-439d34fb6e6d",
   "metadata": {},
   "outputs": [
    {
     "name": "stdout",
     "output_type": "stream",
     "text": [
      "0b1000\n"
     ]
    }
   ],
   "source": [
    "print(bin(x&y))"
   ]
  },
  {
   "cell_type": "code",
   "execution_count": 24,
   "id": "e6442fab-49ac-4288-a7d4-32e223361876",
   "metadata": {},
   "outputs": [
    {
     "name": "stdout",
     "output_type": "stream",
     "text": [
      "10 0b1010\n"
     ]
    }
   ],
   "source": [
    "print(x|y, bin(x|y))"
   ]
  },
  {
   "cell_type": "code",
   "execution_count": 25,
   "id": "296bf8c1-1999-4d8a-955a-6477b00c604d",
   "metadata": {},
   "outputs": [
    {
     "name": "stdout",
     "output_type": "stream",
     "text": [
      "2 0b10\n"
     ]
    }
   ],
   "source": [
    "print(x^y, bin(x^y))"
   ]
  },
  {
   "cell_type": "code",
   "execution_count": null,
   "id": "22b49b23-5411-4255-bcb3-f4d4c7f2e3ca",
   "metadata": {},
   "outputs": [],
   "source": []
  }
 ],
 "metadata": {
  "kernelspec": {
   "display_name": "Python 3 (ipykernel)",
   "language": "python",
   "name": "python3"
  },
  "language_info": {
   "codemirror_mode": {
    "name": "ipython",
    "version": 3
   },
   "file_extension": ".py",
   "mimetype": "text/x-python",
   "name": "python",
   "nbconvert_exporter": "python",
   "pygments_lexer": "ipython3",
   "version": "3.11.4"
  }
 },
 "nbformat": 4,
 "nbformat_minor": 5
}
