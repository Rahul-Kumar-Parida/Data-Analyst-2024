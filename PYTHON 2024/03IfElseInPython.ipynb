{
 "cells": [
  {
   "cell_type": "markdown",
   "id": "b899d2fa-20ef-4f56-bbb8-9b329cb6117e",
   "metadata": {},
   "source": [
    "# if Statement"
   ]
  },
  {
   "cell_type": "code",
   "execution_count": 3,
   "id": "6a4962b9-2d4f-497e-8445-d09b442cea3a",
   "metadata": {},
   "outputs": [
    {
     "name": "stdout",
     "output_type": "stream",
     "text": [
      "You r Eligible\n",
      "Finaly Executed!!\n"
     ]
    }
   ],
   "source": [
    "grade = 50\n",
    "if grade >=30:\n",
    "    print(\"You r Eligible\")\n",
    "print(\"Finaly Executed!!\")"
   ]
  },
  {
   "cell_type": "code",
   "execution_count": 5,
   "id": "6e89fa21-ac20-4910-aaf3-782ad25a79be",
   "metadata": {},
   "outputs": [
    {
     "name": "stdin",
     "output_type": "stream",
     "text": [
      "Enter Number: 40\n"
     ]
    },
    {
     "name": "stdout",
     "output_type": "stream",
     "text": [
      "Pass\n"
     ]
    }
   ],
   "source": [
    "grade = int(input(\"Enter Number:\"))\n",
    "if grade>30:\n",
    "    print(\"Pass\")"
   ]
  },
  {
   "cell_type": "markdown",
   "id": "97d446f2-5393-4401-aa11-8cdd04231224",
   "metadata": {},
   "source": [
    "# if else Statement"
   ]
  },
  {
   "cell_type": "code",
   "execution_count": 7,
   "id": "121b25a7-9b1d-4f0f-b692-291544d33e40",
   "metadata": {},
   "outputs": [
    {
     "name": "stdin",
     "output_type": "stream",
     "text": [
      "Enter Mark 60\n"
     ]
    },
    {
     "name": "stdout",
     "output_type": "stream",
     "text": [
      "You Have Passsed\n"
     ]
    }
   ],
   "source": [
    "gd=int(input(\"Enter Mark\"))\n",
    "if gd>=60:\n",
    "    print(\"You Have Passsed\")\n",
    "else:\n",
    "    print(\"You Failed\")"
   ]
  },
  {
   "cell_type": "markdown",
   "id": "90c2975d-d057-429b-b53c-f67f39c913c5",
   "metadata": {},
   "source": [
    "# elif Statement"
   ]
  },
  {
   "cell_type": "code",
   "execution_count": 10,
   "id": "7f81ca66-13cb-4a3c-89d2-37a75759cc31",
   "metadata": {},
   "outputs": [
    {
     "name": "stdin",
     "output_type": "stream",
     "text": [
      "Enter Mark 100\n"
     ]
    },
    {
     "name": "stdout",
     "output_type": "stream",
     "text": [
      "Fail\n"
     ]
    }
   ],
   "source": [
    "gd=int(input(\"Enter Mark\"))\n",
    "if gd>=360:\n",
    "    print(\"First Class\")\n",
    "elif gd>=200 and gd<360:\n",
    "    print(\"Second Class\")\n",
    "elif gd>=180 and gd <200:\n",
    "    print(\"Third Class\")\n",
    "else:\n",
    "    print(\"Fail\")"
   ]
  },
  {
   "cell_type": "markdown",
   "id": "4242154e-b680-43f6-95d3-0a0946676783",
   "metadata": {},
   "source": [
    "# nested if statement"
   ]
  },
  {
   "cell_type": "code",
   "execution_count": 14,
   "id": "5a1009c3-1d75-4806-86fb-220681e923b4",
   "metadata": {},
   "outputs": [
    {
     "name": "stdin",
     "output_type": "stream",
     "text": [
      "Enter Mark 200\n"
     ]
    },
    {
     "name": "stdout",
     "output_type": "stream",
     "text": [
      "Not advanced\n"
     ]
    }
   ],
   "source": [
    "gd=int(input(\"Enter Mark\"))\n",
    "if gd>=360:\n",
    "    print(\"First Class\")\n",
    "if gd>400:\n",
    "    print(\"Advanced\")\n",
    "else:\n",
    "    print(\"Not advanced\")"
   ]
  },
  {
   "cell_type": "markdown",
   "id": "08758b4b-9985-45c5-9885-42d097b3aa5b",
   "metadata": {},
   "source": [
    "# nested if else statement"
   ]
  },
  {
   "cell_type": "code",
   "execution_count": 17,
   "id": "096063df-95a0-4c9d-8216-dfd14aa47c72",
   "metadata": {},
   "outputs": [
    {
     "name": "stdin",
     "output_type": "stream",
     "text": [
      "Enter Number: 31\n"
     ]
    },
    {
     "name": "stdout",
     "output_type": "stream",
     "text": [
      "Odd\n"
     ]
    }
   ],
   "source": [
    "cd=int(input(\"Enter Number:\"))\n",
    "if (cd<50):\n",
    "    if(cd%2==0):\n",
    "        print(\"Even\")\n",
    "    else:\n",
    "        print(\"Odd\")\n",
    "else:\n",
    "    print(cd, \"greater than 50\")"
   ]
  },
  {
   "cell_type": "code",
   "execution_count": null,
   "id": "569e6265-ed09-48d6-b914-e4d48e144b8a",
   "metadata": {},
   "outputs": [],
   "source": []
  }
 ],
 "metadata": {
  "kernelspec": {
   "display_name": "Python 3 (ipykernel)",
   "language": "python",
   "name": "python3"
  },
  "language_info": {
   "codemirror_mode": {
    "name": "ipython",
    "version": 3
   },
   "file_extension": ".py",
   "mimetype": "text/x-python",
   "name": "python",
   "nbconvert_exporter": "python",
   "pygments_lexer": "ipython3",
   "version": "3.11.4"
  }
 },
 "nbformat": 4,
 "nbformat_minor": 5
}
